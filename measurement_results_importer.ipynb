{
 "cells": [
  {
   "cell_type": "markdown",
   "source": [
    "# This script is importing the measurement results downloaded as json files and adds them to the database of measurements\n",
    "# save in /data/measurements.csv."
   ],
   "metadata": {
    "collapsed": false
   }
  },
  {
   "cell_type": "code",
   "execution_count": 1,
   "id": "6e6b3fac5251e5f",
   "metadata": {
    "collapsed": false,
    "ExecuteTime": {
     "end_time": "2024-02-08T13:48:30.690675Z",
     "start_time": "2024-02-08T13:48:30.453289Z"
    }
   },
   "outputs": [],
   "source": [
    "#Imports\n",
    "import pandas as pd\n",
    "from pandas import json_normalize\n",
    "import json\n",
    "import os\n",
    "import glob"
   ]
  },
  {
   "cell_type": "code",
   "execution_count": 11,
   "outputs": [
    {
     "name": "stdout",
     "output_type": "stream",
     "text": [
      "            rtt    x    fw   mver  lts       dst_name af       dst_addr  \\\n",
      "0    235.824086  NaN  5040  2.4.1   48  8.212.139.140  4  8.212.139.140   \n",
      "1    250.088163  NaN  5040  2.4.1   48  8.212.139.140  4  8.212.139.140   \n",
      "2    250.191049  NaN  5040  2.4.1   48  8.212.139.140  4  8.212.139.140   \n",
      "3    197.496160  NaN  5080  2.6.2  105  8.212.139.140  4  8.212.139.140   \n",
      "4    184.048765  NaN  5080  2.6.2  105  8.212.139.140  4  8.212.139.140   \n",
      "..          ...  ...   ...    ...  ...            ... ..            ...   \n",
      "131  228.910355  NaN  5080  2.6.2   36  8.212.139.140  4  8.212.139.140   \n",
      "132  182.090602  NaN  5080  2.6.2   36  8.212.139.140  4  8.212.139.140   \n",
      "133  454.711174  NaN  5080  2.6.2   36  8.212.139.140  4  8.212.139.140   \n",
      "134  238.379088  NaN  5080  2.6.2   47  8.212.139.140  4  8.212.139.140   \n",
      "135  193.824249  NaN  5080  2.6.2   47  8.212.139.140  4  8.212.139.140   \n",
      "\n",
      "           src_addr proto  ...         avg    msm_id   prb_id   timestamp  \\\n",
      "0        10.13.37.1  ICMP  ...  245.367766  67553802  1004353  1707394796   \n",
      "1        10.13.37.1  ICMP  ...  245.367766  67553802  1004353  1707394796   \n",
      "2        10.13.37.1  ICMP  ...  245.367766  67553802  1004353  1707394796   \n",
      "3    10.133.102.122  ICMP  ...  188.476536  67553802  1005856  1707394744   \n",
      "4    10.133.102.122  ICMP  ...  188.476536  67553802  1005856  1707394744   \n",
      "..              ...   ...  ...         ...       ...      ...         ...   \n",
      "131  10.133.102.122  ICMP  ...   288.57071  67553802  1005856  1707395451   \n",
      "132  10.133.102.122  ICMP  ...   288.57071  67553802  1005856  1707395451   \n",
      "133  10.133.102.122  ICMP  ...   288.57071  67553802  1005856  1707395451   \n",
      "134  10.133.102.122  ICMP  ...  216.101668  67553802  1005856  1707395405   \n",
      "135  10.133.102.122  ICMP  ...  216.101668  67553802  1005856  1707395405   \n",
      "\n",
      "    msm_name           from  type  group_id step stored_timestamp  \n",
      "0       Ping  145.224.97.98  ping  67553802   60       1707394921  \n",
      "1       Ping  145.224.97.98  ping  67553802   60       1707394921  \n",
      "2       Ping  145.224.97.98  ping  67553802   60       1707394921  \n",
      "3       Ping   49.237.47.57  ping  67553802   60       1707394859  \n",
      "4       Ping   49.237.47.57  ping  67553802   60       1707394859  \n",
      "..       ...            ...   ...       ...  ...              ...  \n",
      "131     Ping   49.237.47.57  ping  67553802   60       1707395480  \n",
      "132     Ping   49.237.47.57  ping  67553802   60       1707395480  \n",
      "133     Ping   49.237.47.57  ping  67553802   60       1707395480  \n",
      "134     Ping   49.237.47.57  ping  67553802   60       1707395480  \n",
      "135     Ping   49.237.47.57  ping  67553802   60       1707395480  \n",
      "\n",
      "[136 rows x 27 columns]\n"
     ]
    },
    {
     "name": "stderr",
     "output_type": "stream",
     "text": [
      "/var/folders/1l/bh3yv7897j3chh18vpc221k40000gp/T/ipykernel_56054/187874600.py:20: FutureWarning: The behavior of DataFrame concatenation with empty or all-NA entries is deprecated. In a future version, this will no longer exclude empty or all-NA columns when determining the result dtypes. To retain the old behavior, exclude the relevant entries before the concat operation.\n",
      "  df_aggregated = pd.concat([df_aggregated,df_temp])\n"
     ]
    }
   ],
   "source": [
    "directory_path = 'data/measurement_results'\n",
    "\n",
    "json_files = glob.glob(os.path.join(directory_path, '*.json'))\n",
    "\n",
    "df_aggregated = pd.DataFrame(columns=['rtt','x','fw','mver','lts','dst_name','af','dst_addr','src_addr','proto','ttl','size','dup','rcvd','sent','min','max','avg','msm_id','prb_id','timestamp','msm_name','from','type','group_id','step','stored_timestamp']) \n",
    "\n",
    "# Do the importing for all the json files in the directory\n",
    "for json_file in json_files:\n",
    "    # Open and load the JSON file\n",
    "    with open(json_file, 'r') as file:\n",
    "        data = json.load(file)\n",
    "    \n",
    "    # Normalize the data, ensuring we ignore errors for missing keys\n",
    "    df_temp = pd.json_normalize(data, record_path=['result'], \n",
    "                                  meta=['fw', 'mver', 'lts', 'dst_name', 'af', 'dst_addr', 'src_addr', \n",
    "                                        'proto', 'ttl', 'size', 'dup', 'rcvd', 'sent', 'min', 'max', \n",
    "                                        'avg', 'msm_id', 'prb_id', 'timestamp', 'msm_name', 'from', \n",
    "                                        'type', 'group_id', 'step', 'stored_timestamp'],\n",
    "                                  errors='ignore')\n",
    "    df_aggregated = pd.concat([df_aggregated,df_temp])\n",
    "    \n",
    "# Export to CSV\n",
    "df_aggregated.to_csv('data/combined_measurement_data.csv', index=False)"
   ],
   "metadata": {
    "collapsed": true,
    "ExecuteTime": {
     "end_time": "2024-02-08T14:06:22.347812Z",
     "start_time": "2024-02-08T14:06:22.332566Z"
    }
   },
   "id": "initial_id"
  },
  {
   "cell_type": "code",
   "execution_count": null,
   "outputs": [],
   "source": [],
   "metadata": {
    "collapsed": false
   },
   "id": "e1ba11985d3e818d"
  }
 ],
 "metadata": {
  "kernelspec": {
   "display_name": "Python 3",
   "language": "python",
   "name": "python3"
  },
  "language_info": {
   "codemirror_mode": {
    "name": "ipython",
    "version": 2
   },
   "file_extension": ".py",
   "mimetype": "text/x-python",
   "name": "python",
   "nbconvert_exporter": "python",
   "pygments_lexer": "ipython2",
   "version": "2.7.6"
  }
 },
 "nbformat": 4,
 "nbformat_minor": 5
}
