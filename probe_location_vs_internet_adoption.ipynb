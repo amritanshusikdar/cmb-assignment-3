{
 "cells": [
  {
   "cell_type": "code",
   "execution_count": 1,
   "id": "initial_id",
   "metadata": {
    "ExecuteTime": {
     "end_time": "2024-02-07T14:48:00.810656Z",
     "start_time": "2024-02-07T14:48:00.277460Z"
    },
    "collapsed": true
   },
   "outputs": [
    {
     "ename": "ModuleNotFoundError",
     "evalue": "No module named 'pycountry_convert'",
     "output_type": "error",
     "traceback": [
      "\u001b[1;31m---------------------------------------------------------------------------\u001b[0m",
      "\u001b[1;31mModuleNotFoundError\u001b[0m                       Traceback (most recent call last)",
      "Cell \u001b[1;32mIn [1], line 10\u001b[0m\n\u001b[0;32m      8\u001b[0m \u001b[38;5;28;01mfrom\u001b[39;00m \u001b[38;5;21;01mgeopy\u001b[39;00m\u001b[38;5;21;01m.\u001b[39;00m\u001b[38;5;21;01mgeocoders\u001b[39;00m \u001b[38;5;28;01mimport\u001b[39;00m Nominatim\n\u001b[0;32m      9\u001b[0m \u001b[38;5;28;01mfrom\u001b[39;00m \u001b[38;5;21;01mgeopy\u001b[39;00m\u001b[38;5;21;01m.\u001b[39;00m\u001b[38;5;21;01mextra\u001b[39;00m\u001b[38;5;21;01m.\u001b[39;00m\u001b[38;5;21;01mrate_limiter\u001b[39;00m \u001b[38;5;28;01mimport\u001b[39;00m RateLimiter\n\u001b[1;32m---> 10\u001b[0m \u001b[38;5;28;01mimport\u001b[39;00m \u001b[38;5;21;01mpycountry_convert\u001b[39;00m \u001b[38;5;28;01mas\u001b[39;00m \u001b[38;5;21;01mpc\u001b[39;00m\n\u001b[0;32m     11\u001b[0m \u001b[38;5;28;01mimport\u001b[39;00m \u001b[38;5;21;01mtime\u001b[39;00m\n\u001b[0;32m     13\u001b[0m \u001b[38;5;28;01mfrom\u001b[39;00m \u001b[38;5;21;01mpprint\u001b[39;00m \u001b[38;5;28;01mimport\u001b[39;00m pprint\n",
      "\u001b[1;31mModuleNotFoundError\u001b[0m: No module named 'pycountry_convert'"
     ]
    }
   ],
   "source": [
    "import pandas\n",
    "\n",
    "'''\n",
    "Imports\n",
    "'''\n",
    "import numpy as np\n",
    "import pandas as pd\n",
    "from geopy.geocoders import Nominatim\n",
    "from geopy.extra.rate_limiter import RateLimiter\n",
    "import pycountry_convert as pc\n",
    "import time\n",
    "\n",
    "from pprint import pprint\n",
    "from typing import Tuple\n",
    "\n",
    "from tqdm import tqdm\n",
    "tqdm.pandas()\n",
    "\n",
    "from matplotlib import pyplot as plt\n",
    "\n",
    "from json import loads"
   ]
  },
  {
   "cell_type": "code",
   "execution_count": 12,
   "id": "90ee44296d3548ef",
   "metadata": {
    "ExecuteTime": {
     "end_time": "2024-02-07T14:44:49.387656Z",
     "start_time": "2024-02-07T14:42:40.070331Z"
    },
    "collapsed": false
   },
   "outputs": [],
   "source": [
    "'''\n",
    "Calculate continent for probes by their given longitude and latitude. Reads csv file, calculates continent and\n",
    "outputs new csv file with a new column for the continent.\n",
    "    Continent calculation code from:\n",
    "    https://medium.com/bitgrit-data-science-publication/get-continent-names-from-coordinates-using-python-8560cdcfdfbb\n",
    "'''\n",
    "def get_continent_name(continent_code: str) -> str:\n",
    "    continent_dict = {\n",
    "        \"NA\": \"North America\",\n",
    "        \"SA\": \"South America\",\n",
    "        \"AS\": \"Asia\",\n",
    "        \"AF\": \"Africa\",\n",
    "        \"OC\": \"Oceania\",\n",
    "        \"EU\": \"Europe\",\n",
    "        \"AQ\" : \"Antarctica\"\n",
    "    }\n",
    "    return continent_dict[continent_code]\n",
    "\n",
    "def get_continent(lat: float, lon: float) -> str:\n",
    "    geolocator = Nominatim(user_agent=\"<username>@gmail.com\", timeout=10)\n",
    "    geocode = RateLimiter(geolocator.reverse, min_delay_seconds=1)\n",
    "    location = geocode(f\"{lat}, {lon}\", language=\"en\")\n",
    "\n",
    "    # for cases where the location is not found, coordinates are antarctica\n",
    "    if location is None:\n",
    "        return \"Antarctica\", \"Antarctica\"\n",
    "\n",
    "    # extract country code\n",
    "    address = location.raw[\"address\"]\n",
    "    country_code = address[\"country_code\"].upper()\n",
    "\n",
    "    # get continent code from country code\n",
    "    continent_code = pc.country_alpha2_to_continent_code(country_code)\n",
    "    continent_name = get_continent_name(continent_code)\n",
    "    return continent_name\n",
    "\n",
    "# Load CSV containing coordinates\n",
    "df = pd.read_csv('data/output.csv')\n",
    "\n",
    "# Add continent column to the dataframe\n",
    "df[\"continent\"] = df.apply(lambda row: get_continent(row[\"latitude\"], row[\"longitude\"]), axis=1)\n",
    "\n",
    "# Write the dataframe to updated csv\n",
    "df.to_csv(\"data/coordinates_continents_selected_probes.csv\", sep=',')"
   ]
  },
  {
   "cell_type": "code",
   "execution_count": 56,
   "id": "b6cc4d35459da900",
   "metadata": {
    "ExecuteTime": {
     "end_time": "2024-02-07T15:18:52.365568Z",
     "start_time": "2024-02-07T15:18:52.361588Z"
    },
    "collapsed": false
   },
   "outputs": [],
   "source": [
    "'''\n",
    "Open csv file of selected probes and output statistics.\n",
    "'''\n",
    "\n",
    "# Load CSV containing coordinates\n",
    "df_selected_probes = pd.read_csv('data/coordinates_continents_selected_probes.csv')\n",
    "                      \n",
    "df_continent_percentage_selected = df_selected_probes.groupby(by=[\"continent\"]).count()['type']/len(df_selected_probes[\"type\"])"
   ]
  },
  {
   "cell_type": "code",
   "execution_count": 57,
   "id": "ffa9e9152290a0a8",
   "metadata": {
    "ExecuteTime": {
     "end_time": "2024-02-07T15:18:52.829721Z",
     "start_time": "2024-02-07T15:18:52.824342Z"
    },
    "collapsed": false
   },
   "outputs": [],
   "source": [
    "'''\n",
    "Open csv file of all RIPE Atlas probes and output statistics.\n",
    "'''\n",
    "\n",
    "# Load CSV containing coordinates\n",
    "df_all_probes = pd.read_csv('data/coordinates_continents_all_probes.csv')\n",
    "                      \n",
    "df_continent_percentage_all = df_all_probes.groupby(by=[\"continent\"]).count()['type']/len(df_all_probes[\"type\"])"
   ]
  },
  {
   "cell_type": "code",
   "execution_count": 77,
   "id": "2cc951d6e5e06b2d",
   "metadata": {
    "ExecuteTime": {
     "end_time": "2024-02-07T15:27:46.906159Z",
     "start_time": "2024-02-07T15:27:46.901521Z"
    },
    "collapsed": false
   },
   "outputs": [
    {
     "name": "stdout",
     "output_type": "stream",
     "text": [
      "         continent  share\n",
      "0             Asia  0.578\n",
      "1    South America  0.068\n",
      "2    North America  0.073\n",
      "3           Europe  0.130\n",
      "4           Africa  0.074\n",
      "5  Central America  0.026\n",
      "6          Oceania  0.070\n"
     ]
    }
   ],
   "source": [
    "'''\n",
    "Open csv file of global internet connectivity and output statistics.\n",
    "'''\n",
    "\n",
    "# Load CSV containing coordinates\n",
    "df_global_internet_user_share = pd.read_csv('data/global_internet_users_share.csv')\n",
    "\n",
    "print(df_global_internet_user_share)"
   ]
  },
  {
   "cell_type": "code",
   "execution_count": 99,
   "id": "9ba6ddf5461c57e6",
   "metadata": {
    "ExecuteTime": {
     "end_time": "2024-02-07T15:43:35.196852Z",
     "start_time": "2024-02-07T15:43:35.192980Z"
    },
    "collapsed": false
   },
   "outputs": [
    {
     "name": "stdout",
     "output_type": "stream",
     "text": [
      "         continent  Share selected probes  Share all probes  Global Share\n",
      "0           Africa                  0.016             0.016         0.074\n",
      "1             Asia                  0.108             0.108         0.578\n",
      "2           Europe                  0.628             0.628         0.130\n",
      "3    North America                  0.188             0.188         0.073\n",
      "4          Oceania                  0.036             0.036         0.070\n",
      "5    South America                  0.024             0.024         0.068\n",
      "6  Central America                  0.000             0.000         0.026\n"
     ]
    }
   ],
   "source": [
    "'''\n",
    "Create dataframe showing probe selection by continent.\n",
    "Requires all three previous blocks to have run in order to read files.\n",
    "'''\n",
    "\n",
    "# Create combined dataframe for all three sources\n",
    "total_shares = df_continent_percentage_selected.to_frame().merge(df_continent_percentage_all.to_frame(), on=\"continent\").merge(df_global_internet_user_share, on=\"continent\", how=\"outer\").rename(columns={\"type_x\":\"Share selected probes\", \"type_y\":\"Share all probes\", \"share\":\"Global Share\"})\n",
    "\n",
    "# Replace NaN with 0\n",
    "total_shares.fillna(0, inplace=True)\n",
    "\n",
    "print(total_shares)"
   ]
  },
  {
   "cell_type": "code",
   "execution_count": 101,
   "id": "e68b7e4a2ee80e07",
   "metadata": {
    "ExecuteTime": {
     "end_time": "2024-02-07T15:45:04.457800Z",
     "start_time": "2024-02-07T15:45:04.334251Z"
    },
    "collapsed": false
   },
   "outputs": [
    {
     "data": {
      "image/png": "[encoded data removed]",
      "text/plain": [
       "<Figure size 1200x600 with 1 Axes>"
      ]
     },
     "metadata": {},
     "output_type": "display_data"
    }
   ],
   "source": [
    "'''\n",
    "Create plot for data.\n",
    "'''\n",
    "total_shares.plot(x='continent', y=['Share selected probes', 'Share all probes', 'Global Share'], kind='bar', title=\"Bias in probe selection\", figsize=(12,6), ylabel='Share in %', rot=0);"
   ]
  },
  {
   "cell_type": "code",
   "execution_count": null,
   "id": "687bce84b2b4fe3b",
   "metadata": {
    "collapsed": false
   },
   "outputs": [],
   "source": []
  }
 ],
 "metadata": {
  "kernelspec": {
   "display_name": "Python 3",
   "language": "python",
   "name": "python3"
  },
  "language_info": {
   "codemirror_mode": {
    "name": "ipython",
    "version": 3
   },
   "file_extension": ".py",
   "mimetype": "text/x-python",
   "name": "python",
   "nbconvert_exporter": "python",
   "pygments_lexer": "ipython3",
   "version": "3.9.6"
  }
 },
 "nbformat": 4,
 "nbformat_minor": 5
}
